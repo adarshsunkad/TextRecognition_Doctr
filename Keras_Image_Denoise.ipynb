{
  "nbformat": 4,
  "nbformat_minor": 0,
  "metadata": {
    "colab": {
      "name": "Keras Image Denoise.ipynb",
      "provenance": [],
      "collapsed_sections": [],
      "authorship_tag": "ABX9TyOPo6bRar5Em1Jc6kgt0TJd",
      "include_colab_link": true
    },
    "kernelspec": {
      "name": "python3",
      "display_name": "Python 3"
    },
    "language_info": {
      "name": "python"
    },
    "accelerator": "GPU",
    "gpuClass": "standard"
  },
  "cells": [
    {
      "cell_type": "markdown",
      "metadata": {
        "id": "view-in-github",
        "colab_type": "text"
      },
      "source": [
        "<a href=\"https://colab.research.google.com/github/adarshsunkad/TextRecognition_Doctr/blob/main/Keras_Image_Denoise.ipynb\" target=\"_parent\"><img src=\"https://colab.research.google.com/assets/colab-badge.svg\" alt=\"Open In Colab\"/></a>"
      ]
    },
    {
      "cell_type": "code",
      "execution_count": 1,
      "metadata": {
        "id": "BxrfcZKudG8u"
      },
      "outputs": [],
      "source": [
        "import numpy as np # linear algebra\n",
        "import pandas as pd # data processing, CSV file I/O (e.g. pd.read_csv)\n",
        "import zipfile\n",
        "import tensorflow as tf\n",
        "from tensorflow import keras\n",
        "from tensorflow.keras.layers import Conv2D,MaxPooling2D,UpSampling2D,BatchNormalization,Dropout\n",
        "from tensorflow.keras.optimizers import Adam\n",
        "from tensorflow.keras.callbacks import EarlyStopping\n",
        "from tensorflow.keras.callbacks import ModelCheckpoint\n",
        "from tensorflow.keras.models import load_model\n",
        "from skimage import io\n",
        "from  tqdm.notebook import tqdm as tqdm_notebook\n",
        "import os\n",
        "from tensorflow.keras import Input\n",
        "import albumentations\n",
        "from albumentations import (\n",
        "    HorizontalFlip,Flip,VerticalFlip,Rotate,Compose)\n",
        "from tensorflow.python.keras.utils.data_utils import Sequence\n",
        "import cv2\n",
        "import matplotlib.pyplot as plt\n",
        "import math\n",
        "import random"
      ]
    },
    {
      "cell_type": "code",
      "source": [
        "zip_path = '/content/train_cleaned.zip'\n",
        "with zipfile.ZipFile(zip_path, 'r') as zip_ref:\n",
        "    zip_ref.extractall('/content/kaggle/working/data')\n",
        "    \n",
        "zip_path = '/content/train.zip'\n",
        "with zipfile.ZipFile(zip_path, 'r') as zip_ref:\n",
        "    zip_ref.extractall('/content/kaggle/working/data')\n",
        "    \n",
        "zip_path = '/content/test.zip'\n",
        "with zipfile.ZipFile(zip_path, 'r') as zip_ref:\n",
        "    zip_ref.extractall('/content/kaggle/working/data')\n",
        "\n",
        "train_dir = '/content/kaggle/working/data/train'\n",
        "train_clean_dir = '/content/kaggle/working/data/train_cleaned'\n",
        "test_dir = '/content/kaggle/working/data/test'"
      ],
      "metadata": {
        "id": "1z6wwdvHdoR5"
      },
      "execution_count": null,
      "outputs": []
    }
  ]
}