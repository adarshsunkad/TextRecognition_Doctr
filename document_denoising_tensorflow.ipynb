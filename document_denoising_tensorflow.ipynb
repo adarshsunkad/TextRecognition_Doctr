{
  "nbformat": 4,
  "nbformat_minor": 0,
  "metadata": {
    "kernelspec": {
      "display_name": "Python 3",
      "language": "python",
      "name": "python3"
    },
    "language_info": {
      "codemirror_mode": {
        "name": "ipython",
        "version": 3
      },
      "file_extension": ".py",
      "mimetype": "text/x-python",
      "name": "python",
      "nbconvert_exporter": "python",
      "pygments_lexer": "ipython3",
      "version": "3.6.6"
    },
    "colab": {
      "name": "document-denoising_tensorflow.ipynb",
      "provenance": [],
      "collapsed_sections": [],
      "include_colab_link": true
    },
    "accelerator": "GPU",
    "gpuClass": "standard"
  },
  "cells": [
    {
      "cell_type": "markdown",
      "metadata": {
        "id": "view-in-github",
        "colab_type": "text"
      },
      "source": [
        "<a href=\"https://colab.research.google.com/github/adarshsunkad/TextRecognition_Doctr/blob/main/document_denoising_tensorflow.ipynb\" target=\"_parent\"><img src=\"https://colab.research.google.com/assets/colab-badge.svg\" alt=\"Open In Colab\"/></a>"
      ]
    },
    {
      "cell_type": "markdown",
      "metadata": {
        "id": "OiAIZQyDXSLj"
      },
      "source": [
        "In this kernel we will try to denoise dirty documents using autoencoders.Autoencoders are neural networks composed of an encoder and a decoder.\n",
        "\n",
        "The encoder compresses the input data into a lower-dimensional representation. The decoder reconstructs the representation to obtain an output that mimics the input as closely as possible. In doing so, the autoencoder learns the most salient features of the input data."
      ]
    },
    {
      "cell_type": "code",
      "metadata": {
        "_cell_guid": "b1076dfc-b9ad-4769-8c92-a6c4dae69d19",
        "_uuid": "8f2839f25d086af736a60e9eeb907d3b93b6e0e5",
        "id": "KeQcA3avXSLk"
      },
      "source": [
        "import numpy as np # linear algebra\n",
        "import pandas as pd # data processing, CSV file I/O (e.g. pd.read_csv)\n",
        "import zipfile\n",
        "import tensorflow as tf\n",
        "from tensorflow import keras\n",
        "from tensorflow.keras.layers import Conv2D,MaxPooling2D,UpSampling2D,BatchNormalization,Dropout\n",
        "from tensorflow.keras.optimizers import Adam\n",
        "from tensorflow.keras.callbacks import EarlyStopping\n",
        "from tensorflow.keras.callbacks import ModelCheckpoint\n",
        "from tensorflow.keras.models import load_model\n",
        "from skimage import io\n",
        "from  tqdm.notebook import tqdm as tqdm_notebook\n",
        "import os\n",
        "from tensorflow.keras import Input\n",
        "import albumentations\n",
        "from albumentations import (\n",
        "    HorizontalFlip,Flip,VerticalFlip,Rotate,Compose)\n",
        "from tensorflow.python.keras.utils.data_utils import Sequence\n",
        "import cv2\n",
        "import matplotlib.pyplot as plt\n",
        "import math\n",
        "import random"
      ],
      "execution_count": 10,
      "outputs": []
    },
    {
      "cell_type": "code",
      "metadata": {
        "_cell_guid": "79c7e3d0-c299-4dcb-8224-4455121ee9b0",
        "_uuid": "d629ff2d2480ee46fbb7e2d37f6b5fab8052498a",
        "id": "hLHiMnEjXSLx",
        "colab": {
          "base_uri": "https://localhost:8080/",
          "height": 380
        },
        "outputId": "0fe1dacf-12ad-4007-a0ce-943cf598a1a3"
      },
      "source": [
        "# main_zip_path = '/content/denoising-dirty-documents.zip'\n",
        "#!wget https://raw.githubusercontent.com/iamdanialkamali/Image-Denosing/master/test.zip\n",
        "#!wget https://raw.githubusercontent.com/iamdanialkamali/Image-Denosing/master/train.zip\n",
        "#!wget https://raw.githubusercontent.com/iamdanialkamali/Image-Denosing/master/train_cleaned.zip\n",
        "# with zipfile.ZipFile(main_zip_path, 'r') as zip_ref:\n",
        "#     zip_ref.extractall('./denoising')\n",
        "\n",
        "zip_path = '/content/train_cleaned.zip'\n",
        "with zipfile.ZipFile(zip_path, 'r') as zip_ref:\n",
        "    zip_ref.extractall('/content/working/data')\n",
        "    \n",
        "zip_path = '/content/train.zip'\n",
        "with zipfile.ZipFile(zip_path, 'r') as zip_ref:\n",
        "    zip_ref.extractall('/content/working/data')\n",
        "    \n",
        "zip_path = '/content/test.zip'\n",
        "with zipfile.ZipFile(zip_path, 'r') as zip_ref:\n",
        "    zip_ref.extractall('/content/working/data')\n",
        "\n",
        "train_dir = '/content/working/data/train'\n",
        "train_clean_dir = '/content/working/data/train_cleaned'\n",
        "test_dir = '/content/working/data/test'"
      ],
      "execution_count": 12,
      "outputs": [
        {
          "output_type": "error",
          "ename": "BadZipFile",
          "evalue": "ignored",
          "traceback": [
            "\u001b[0;31m---------------------------------------------------------------------------\u001b[0m",
            "\u001b[0;31mBadZipFile\u001b[0m                                Traceback (most recent call last)",
            "\u001b[0;32m<ipython-input-12-9f435a4dda72>\u001b[0m in \u001b[0;36m<module>\u001b[0;34m()\u001b[0m\n\u001b[1;32m      7\u001b[0m \u001b[0;34m\u001b[0m\u001b[0m\n\u001b[1;32m      8\u001b[0m \u001b[0mzip_path\u001b[0m \u001b[0;34m=\u001b[0m \u001b[0;34m'/content/train_cleaned.zip'\u001b[0m\u001b[0;34m\u001b[0m\u001b[0;34m\u001b[0m\u001b[0m\n\u001b[0;32m----> 9\u001b[0;31m \u001b[0;32mwith\u001b[0m \u001b[0mzipfile\u001b[0m\u001b[0;34m.\u001b[0m\u001b[0mZipFile\u001b[0m\u001b[0;34m(\u001b[0m\u001b[0mzip_path\u001b[0m\u001b[0;34m,\u001b[0m \u001b[0;34m'r'\u001b[0m\u001b[0;34m)\u001b[0m \u001b[0;32mas\u001b[0m \u001b[0mzip_ref\u001b[0m\u001b[0;34m:\u001b[0m\u001b[0;34m\u001b[0m\u001b[0;34m\u001b[0m\u001b[0m\n\u001b[0m\u001b[1;32m     10\u001b[0m     \u001b[0mzip_ref\u001b[0m\u001b[0;34m.\u001b[0m\u001b[0mextractall\u001b[0m\u001b[0;34m(\u001b[0m\u001b[0;34m'/content/working/data'\u001b[0m\u001b[0;34m)\u001b[0m\u001b[0;34m\u001b[0m\u001b[0;34m\u001b[0m\u001b[0m\n\u001b[1;32m     11\u001b[0m \u001b[0;34m\u001b[0m\u001b[0m\n",
            "\u001b[0;32m/usr/lib/python3.7/zipfile.py\u001b[0m in \u001b[0;36m__init__\u001b[0;34m(self, file, mode, compression, allowZip64, compresslevel)\u001b[0m\n\u001b[1;32m   1256\u001b[0m         \u001b[0;32mtry\u001b[0m\u001b[0;34m:\u001b[0m\u001b[0;34m\u001b[0m\u001b[0;34m\u001b[0m\u001b[0m\n\u001b[1;32m   1257\u001b[0m             \u001b[0;32mif\u001b[0m \u001b[0mmode\u001b[0m \u001b[0;34m==\u001b[0m \u001b[0;34m'r'\u001b[0m\u001b[0;34m:\u001b[0m\u001b[0;34m\u001b[0m\u001b[0;34m\u001b[0m\u001b[0m\n\u001b[0;32m-> 1258\u001b[0;31m                 \u001b[0mself\u001b[0m\u001b[0;34m.\u001b[0m\u001b[0m_RealGetContents\u001b[0m\u001b[0;34m(\u001b[0m\u001b[0;34m)\u001b[0m\u001b[0;34m\u001b[0m\u001b[0;34m\u001b[0m\u001b[0m\n\u001b[0m\u001b[1;32m   1259\u001b[0m             \u001b[0;32melif\u001b[0m \u001b[0mmode\u001b[0m \u001b[0;32min\u001b[0m \u001b[0;34m(\u001b[0m\u001b[0;34m'w'\u001b[0m\u001b[0;34m,\u001b[0m \u001b[0;34m'x'\u001b[0m\u001b[0;34m)\u001b[0m\u001b[0;34m:\u001b[0m\u001b[0;34m\u001b[0m\u001b[0;34m\u001b[0m\u001b[0m\n\u001b[1;32m   1260\u001b[0m                 \u001b[0;31m# set the modified flag so central directory gets written\u001b[0m\u001b[0;34m\u001b[0m\u001b[0;34m\u001b[0m\u001b[0;34m\u001b[0m\u001b[0m\n",
            "\u001b[0;32m/usr/lib/python3.7/zipfile.py\u001b[0m in \u001b[0;36m_RealGetContents\u001b[0;34m(self)\u001b[0m\n\u001b[1;32m   1323\u001b[0m             \u001b[0;32mraise\u001b[0m \u001b[0mBadZipFile\u001b[0m\u001b[0;34m(\u001b[0m\u001b[0;34m\"File is not a zip file\"\u001b[0m\u001b[0;34m)\u001b[0m\u001b[0;34m\u001b[0m\u001b[0;34m\u001b[0m\u001b[0m\n\u001b[1;32m   1324\u001b[0m         \u001b[0;32mif\u001b[0m \u001b[0;32mnot\u001b[0m \u001b[0mendrec\u001b[0m\u001b[0;34m:\u001b[0m\u001b[0;34m\u001b[0m\u001b[0;34m\u001b[0m\u001b[0m\n\u001b[0;32m-> 1325\u001b[0;31m             \u001b[0;32mraise\u001b[0m \u001b[0mBadZipFile\u001b[0m\u001b[0;34m(\u001b[0m\u001b[0;34m\"File is not a zip file\"\u001b[0m\u001b[0;34m)\u001b[0m\u001b[0;34m\u001b[0m\u001b[0;34m\u001b[0m\u001b[0m\n\u001b[0m\u001b[1;32m   1326\u001b[0m         \u001b[0;32mif\u001b[0m \u001b[0mself\u001b[0m\u001b[0;34m.\u001b[0m\u001b[0mdebug\u001b[0m \u001b[0;34m>\u001b[0m \u001b[0;36m1\u001b[0m\u001b[0;34m:\u001b[0m\u001b[0;34m\u001b[0m\u001b[0;34m\u001b[0m\u001b[0m\n\u001b[1;32m   1327\u001b[0m             \u001b[0mprint\u001b[0m\u001b[0;34m(\u001b[0m\u001b[0mendrec\u001b[0m\u001b[0;34m)\u001b[0m\u001b[0;34m\u001b[0m\u001b[0;34m\u001b[0m\u001b[0m\n",
            "\u001b[0;31mBadZipFile\u001b[0m: File is not a zip file"
          ]
        }
      ]
    },
    {
      "cell_type": "code",
      "metadata": {
        "id": "9r4gLLN-XSL0"
      },
      "source": [
        "#loading data\n",
        "def load_images(folder_path):\n",
        "    images = [image for image in os.listdir(folder_path)]\n",
        "\n",
        "    image_arr = np.zeros((len(images),258,540,1))  #height,width\n",
        "    for i in tqdm_notebook(range(len(images)),total=len(images)):\n",
        "        img = cv2.imread(os.path.join(folder_path,images[i]),0) \n",
        "        img = cv2.resize(img, (540,258))  #width,height      \n",
        "        img = img/255.0\n",
        "        img = np.expand_dims(img, axis=-1).astype('float32')\n",
        "        image_arr[i] = img\n",
        "        \n",
        "    return image_arr    "
      ],
      "execution_count": null,
      "outputs": []
    },
    {
      "cell_type": "code",
      "metadata": {
        "id": "8ipq8munXSL2"
      },
      "source": [
        "train_images = load_images(train_dir)\n",
        "test_images = load_images(test_dir)\n",
        "train_clean_images = load_images(train_clean_dir)"
      ],
      "execution_count": null,
      "outputs": []
    },
    {
      "cell_type": "markdown",
      "metadata": {
        "id": "zouSb8eTXSL6"
      },
      "source": [
        "## Augmentations for increasing training data"
      ]
    },
    {
      "cell_type": "code",
      "metadata": {
        "id": "7xkuoGmGXSL6"
      },
      "source": [
        "flip_hor = Compose([\n",
        "                HorizontalFlip(p=1)    \n",
        "                    ])\n",
        "\n",
        "flip_vert = Compose([\n",
        "                VerticalFlip(p=1)      \n",
        "                    ])\n",
        "\n",
        "def prepare_data(images,masks,horizontal_flip=True,vertical_flip=True):\n",
        "    final_images,final_masks= [],[]\n",
        "    flip_idx1 = np.random.choice(np.arange(0,len(images)), 80, replace=False)\n",
        "    flip_idx2 = np.random.choice(np.arange(0,len(images)), 80, replace=False)\n",
        "    for i in range(len(images)):\n",
        "            final_images.append(images[i])\n",
        "            final_masks.append(masks[i])\n",
        "            if horizontal_flip:\n",
        "                if i in flip_idx1:\n",
        "                    augmented = flip_hor(image=images[i],mask=masks[i])\n",
        "                    final_images.append(augmented['image'])\n",
        "                    final_masks.append(augmented['mask'])\n",
        "            if vertical_flip:\n",
        "                if i in flip_idx2:\n",
        "                    augmented = flip_vert(image=images[i],mask=masks[i])\n",
        "                    final_images.append(augmented['image'])\n",
        "                    final_masks.append(augmented['mask'])\n",
        "\n",
        "    return np.array(final_images),np.array(final_masks)\n",
        "               "
      ],
      "execution_count": null,
      "outputs": []
    },
    {
      "cell_type": "code",
      "metadata": {
        "id": "HSnz8NlfXSL8"
      },
      "source": [
        "train_images,train_clean_images = prepare_data(train_images,train_clean_images)"
      ],
      "execution_count": null,
      "outputs": []
    },
    {
      "cell_type": "markdown",
      "metadata": {
        "id": "Uk8kFzaVXSL-"
      },
      "source": [
        "## Splitting to train and Validation"
      ]
    },
    {
      "cell_type": "code",
      "metadata": {
        "id": "EMnH-9lhXSL_"
      },
      "source": [
        "def train_val_split(x_data,y_data,split_ratio=0.8):\n",
        "        indices = np.arange(x_data.shape[0])\n",
        "        np.random.shuffle(indices)\n",
        "        x_data = x_data[indices]\n",
        "        y_data = y_data[indices]\n",
        "        split_num = int(0.8 * len(x_data))\n",
        "        x_train,y_train = x_data[:split_num],y_data[:split_num]\n",
        "        x_val,y_val = x_data[split_num:],y_data[split_num:]\n",
        "        return x_train,y_train,x_val,y_val"
      ],
      "execution_count": null,
      "outputs": []
    },
    {
      "cell_type": "code",
      "metadata": {
        "id": "7uX8tueeXSMB"
      },
      "source": [
        "X_train,y_train,X_val,y_val = train_val_split(train_images,train_clean_images)\n"
      ],
      "execution_count": null,
      "outputs": []
    },
    {
      "cell_type": "code",
      "metadata": {
        "id": "EjoriMnFXSMD"
      },
      "source": [
        "print('Number of train input images {}'.format(X_train.shape[0]))\n",
        "print('Number of validation input images {}'.format(X_val.shape[0]))"
      ],
      "execution_count": null,
      "outputs": []
    },
    {
      "cell_type": "markdown",
      "metadata": {
        "id": "JJXffmtqXSMF"
      },
      "source": [
        "## Visulaization"
      ]
    },
    {
      "cell_type": "code",
      "metadata": {
        "id": "xNPuKBMNXSMG"
      },
      "source": [
        "def plot_img(no,x_data,y_data):\n",
        "    fig, axes = plt.subplots(5, 2,figsize=(20,20))\n",
        "    for i in range(no):\n",
        "        axes[i,0].imshow(x_data[i].squeeze(),cmap='gray')\n",
        "        axes[i,0].set_title('images-noisy')\n",
        "        axes[i,1].imshow(y_data[i].squeeze(),cmap='gray') \n",
        "        axes[i,1].set_title('images-cleaned')\n",
        "    fig.tight_layout() "
      ],
      "execution_count": null,
      "outputs": []
    },
    {
      "cell_type": "code",
      "metadata": {
        "id": "8HN0JOWNXSMJ"
      },
      "source": [
        "plot_img(5,X_train,y_train)"
      ],
      "execution_count": null,
      "outputs": []
    },
    {
      "cell_type": "markdown",
      "metadata": {
        "id": "Ts13LmLUXSMM"
      },
      "source": [
        "## Loading the Data"
      ]
    },
    {
      "cell_type": "code",
      "metadata": {
        "id": "XpnBntERXSMM"
      },
      "source": [
        "def auto_encoder(img_shape):\n",
        "    input_layer = Input(shape=img_shape)\n",
        "    # encoder\n",
        "    conv2 = Conv2D(filters=64, kernel_size=(3,3),activation='relu',padding='same')(input_layer)\n",
        "    conv2 = Conv2D(filters=32,kernel_size=(3,3),activation='relu',padding='same')(conv2)\n",
        "    conv2 = Conv2D(filters=16,kernel_size=(3,3),activation='relu',padding='same')(conv2)\n",
        "    conv2 = Conv2D(filters=8,kernel_size=(3,3),activation='relu',padding='same')(conv2)\n",
        "    h = MaxPooling2D((2, 2), padding='same')(conv2)\n",
        "    #decoder\n",
        "    h = Conv2D(64, (3, 3), activation='relu', padding='same')(h)\n",
        "    h = Conv2D(64, (3, 3), activation='relu', padding='same')(h)\n",
        "    h = UpSampling2D((2, 2))(h)\n",
        "    output_layer = Conv2D(1, (3, 3), activation='sigmoid', padding='same')(h)    \n",
        "    return keras.Model(input_layer, output_layer)\n",
        "\n",
        "    "
      ],
      "execution_count": null,
      "outputs": []
    },
    {
      "cell_type": "code",
      "metadata": {
        "id": "4MFnYzgxXSMO"
      },
      "source": [
        "optimizer = Adam(lr=0.001)\n",
        "model = auto_encoder(train_images[0].shape)\n",
        "model.compile(loss='mse', optimizer=optimizer)\n",
        "model.summary()"
      ],
      "execution_count": null,
      "outputs": []
    },
    {
      "cell_type": "code",
      "metadata": {
        "id": "GUb0TL3rXSMQ"
      },
      "source": [
        "epochs = 100\n",
        "batch_size = 10\n",
        "save_point = '/content/working/chkpoint'\n",
        "\n",
        "if not os.path.exists(save_point):\n",
        "    os.mkdir(save_point)\n",
        "\n",
        "early_stopping = EarlyStopping(monitor='val_loss',\n",
        "                                       min_delta=0,\n",
        "                                       patience=5,\n",
        "                                       verbose=1, \n",
        "                                       mode='auto')\n",
        "\n",
        "mcp_save = ModelCheckpoint(save_point+'/mdl.hdf5', save_best_only=True, \n",
        "                           monitor='val_loss', mode='min')\n",
        "history = model.fit(X_train, y_train,\n",
        "                                    batch_size=batch_size,\n",
        "                                    epochs=epochs,\n",
        "                                    validation_data=(X_val, y_val),\n",
        "                                    callbacks=[early_stopping,mcp_save])"
      ],
      "execution_count": null,
      "outputs": []
    },
    {
      "cell_type": "code",
      "metadata": {
        "id": "hphsuISmXSMS"
      },
      "source": [
        "plt.plot(history.history['loss'])\n",
        "plt.plot(history.history['val_loss'])\n",
        "plt.title('Model loss')\n",
        "plt.ylabel('Loss')\n",
        "plt.xlabel('Epoch')\n",
        "plt.legend(['Train loss', 'Val loss'], loc='upper left')\n",
        "plt.show()\n"
      ],
      "execution_count": null,
      "outputs": []
    },
    {
      "cell_type": "code",
      "metadata": {
        "id": "r_zpjHtcXSMT"
      },
      "source": [
        "#loading the model\n",
        "model = load_model('/content/working/chkpoint/mdl.hdf5')"
      ],
      "execution_count": null,
      "outputs": []
    },
    {
      "cell_type": "code",
      "metadata": {
        "id": "gWaeFBPoXSMW"
      },
      "source": [
        "def eval_model(test_images):\n",
        "    preds = model.predict(test_images)\n",
        "    return preds\n",
        "\n",
        "preds = eval_model(test_images)\n",
        "preds_denormalized  = np.array([(i*255.0) for i in preds])\n",
        "preds_denormalized.shape"
      ],
      "execution_count": null,
      "outputs": []
    },
    {
      "cell_type": "markdown",
      "metadata": {
        "id": "CKL_6bzxXSMY"
      },
      "source": [
        "## visualizing predicted images"
      ]
    },
    {
      "cell_type": "code",
      "metadata": {
        "id": "T6P_FA30XSMY"
      },
      "source": [
        "plot_img(5,test_images,preds_denormalized)"
      ],
      "execution_count": null,
      "outputs": []
    },
    {
      "cell_type": "markdown",
      "metadata": {
        "id": "hmsXyXMOXSMa"
      },
      "source": [
        "### Exporting csv for submission"
      ]
    },
    {
      "cell_type": "code",
      "metadata": {
        "id": "4rUd-GnTXSMa"
      },
      "source": [
        "preds = preds.reshape(-1, 258, 540)\n",
        "\n",
        "\n",
        "TEST_IMAGES = os.listdir(test_dir)\n",
        "ids = []\n",
        "vals = []\n",
        "for i, f in enumerate(TEST_IMAGES):\n",
        "    imgid = int(f.split('.')[0])\n",
        "    test_img = cv2.imread(os.path.join(test_dir,f), 0)\n",
        "    img_shape = test_img.shape\n",
        "    print('processing: {}'.format(imgid))\n",
        "    print(img_shape)\n",
        "    preds_reshaped = cv2.resize(preds[i], (img_shape[1], img_shape[0]))\n",
        "    for r in range(img_shape[0]):\n",
        "        for c in range(img_shape[1]):\n",
        "            ids.append(str(imgid)+'_'+str(r + 1)+'_'+str(c + 1))\n",
        "            vals.append(preds_reshaped[r, c])\n",
        "\n",
        "print('Writing to csv file')\n",
        "pd.DataFrame({'id': ids, 'value': vals}).to_csv('submission.csv', index=False)\n"
      ],
      "execution_count": null,
      "outputs": []
    },
    {
      "cell_type": "code",
      "metadata": {
        "id": "YDPxHLtGXSMc"
      },
      "source": [
        "len(vals)"
      ],
      "execution_count": null,
      "outputs": []
    },
    {
      "cell_type": "code",
      "metadata": {
        "id": "3GhV3GiUXSMe"
      },
      "source": [
        "\n",
        "my_submission = pd.read_csv(\"submission.csv\")\n",
        "my_submission.head()"
      ],
      "execution_count": null,
      "outputs": []
    }
  ]
}